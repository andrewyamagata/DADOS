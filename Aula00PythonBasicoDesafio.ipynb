{
 "cells": [
  {
   "cell_type": "markdown",
   "metadata": {},
   "source": [
    "## Desafio 1: Divisão de listas em tuplas\n",
    "\n",
    "Dada uma lista de dados `dados = [\"Ana\", 25, \"Luís\", 30, \"Clara\", 28]` onde cada nome de funcionário é seguido pela sua idade, converta esta lista em uma lista de tuplas, onde cada tupla contém o nome do funcionário e sua idade.\n",
    "\n",
    "Dica: pesquise sobre a [função built-in](https://docs.python.org/3/library/functions.html) `zip` do Python"
   ]
  },
  {
   "cell_type": "code",
   "execution_count": 1,
   "metadata": {},
   "outputs": [],
   "source": [
    "dados = [\"Ana\", 25, \"Luís\", 30, \"Clara\", 28]"
   ]
  },
  {
   "cell_type": "code",
   "execution_count": 2,
   "metadata": {},
   "outputs": [
    {
     "data": {
      "text/plain": [
       "['Ana', 'Luís', 'Clara']"
      ]
     },
     "execution_count": 2,
     "metadata": {},
     "output_type": "execute_result"
    }
   ],
   "source": [
    "nomes = dados[::2]\n",
    "nomes"
   ]
  },
  {
   "cell_type": "code",
   "execution_count": 3,
   "metadata": {},
   "outputs": [
    {
     "data": {
      "text/plain": [
       "[25, 30, 28]"
      ]
     },
     "execution_count": 3,
     "metadata": {},
     "output_type": "execute_result"
    }
   ],
   "source": [
    "idades = dados[1::2]\n",
    "idades"
   ]
  },
  {
   "cell_type": "code",
   "execution_count": 4,
   "metadata": {},
   "outputs": [
    {
     "data": {
      "text/plain": [
       "<zip at 0x1a13c7e9f40>"
      ]
     },
     "execution_count": 4,
     "metadata": {},
     "output_type": "execute_result"
    }
   ],
   "source": [
    "zip(nomes, idades)"
   ]
  },
  {
   "cell_type": "code",
   "execution_count": 6,
   "metadata": {},
   "outputs": [
    {
     "data": {
      "text/plain": [
       "[('Ana', 25), ('Luís', 30), ('Clara', 28)]"
      ]
     },
     "execution_count": 6,
     "metadata": {},
     "output_type": "execute_result"
    }
   ],
   "source": [
    "tuplas_funcionarios = list(zip(nomes, idades))\n",
    "tuplas_funcionarios"
   ]
  },
  {
   "cell_type": "code",
   "execution_count": 7,
   "metadata": {},
   "outputs": [
    {
     "data": {
      "text/plain": [
       "{'Ana': 25, 'Luís': 30, 'Clara': 28}"
      ]
     },
     "execution_count": 7,
     "metadata": {},
     "output_type": "execute_result"
    }
   ],
   "source": [
    "dict(tuplas_funcionarios)"
   ]
  },
  {
   "cell_type": "markdown",
   "metadata": {},
   "source": [
    "## Desafio 2: Unindo listas de departamentos\n",
    "\n",
    "Duas listas contêm nomes de funcionários de diferentes departamentos da empresa: `departamento_a = [\"Ana\", \"Luís\", \"Clara\"]` e `departamento_b = [\"Marcos\", \"Jonas\", \"Mariana\", \"Ana\"]`. Crie uma nova lista que combine os funcionários de ambos os departamentos e remova qualquer duplicata.\n",
    "\n",
    "Dica: pesquise sobre a estrutura de dados [set](https://docs.python.org/3/tutorial/datastructures.html#sets) em Python"
   ]
  },
  {
   "cell_type": "code",
   "execution_count": 9,
   "metadata": {},
   "outputs": [
    {
     "data": {
      "text/plain": [
       "['Ana', 'Luís', 'Clara', 'Marcos', 'Jonas', 'Mariana', 'Ana']"
      ]
     },
     "execution_count": 9,
     "metadata": {},
     "output_type": "execute_result"
    }
   ],
   "source": [
    "departamento_a = [\"Ana\", \"Luís\", \"Clara\"]\n",
    "departamento_b = [\"Marcos\", \"Jonas\", \"Mariana\", \"Ana\"]\n",
    "\n",
    "departamentos = departamento_a + departamento_b\n",
    "\n",
    "departamentos"
   ]
  },
  {
   "cell_type": "code",
   "execution_count": 11,
   "metadata": {},
   "outputs": [
    {
     "data": {
      "text/plain": [
       "{'Ana', 'Clara', 'Jonas', 'Luís', 'Marcos', 'Mariana'}"
      ]
     },
     "execution_count": 11,
     "metadata": {},
     "output_type": "execute_result"
    }
   ],
   "source": [
    "set(departamentos)"
   ]
  },
  {
   "cell_type": "code",
   "execution_count": 13,
   "metadata": {},
   "outputs": [],
   "source": [
    "funcionarios_unicos = list(set(departamentos))"
   ]
  },
  {
   "cell_type": "code",
   "execution_count": 15,
   "metadata": {},
   "outputs": [
    {
     "data": {
      "text/plain": [
       "['Clara', 'Marcos', 'Ana', 'Jonas', 'Luís', 'Mariana']"
      ]
     },
     "execution_count": 15,
     "metadata": {},
     "output_type": "execute_result"
    }
   ],
   "source": [
    "funcionarios_unicos\n"
   ]
  }
 ],
 "metadata": {
  "kernelspec": {
   "display_name": "base",
   "language": "python",
   "name": "python3"
  },
  "language_info": {
   "codemirror_mode": {
    "name": "ipython",
    "version": 3
   },
   "file_extension": ".py",
   "mimetype": "text/x-python",
   "name": "python",
   "nbconvert_exporter": "python",
   "pygments_lexer": "ipython3",
   "version": "3.11.5"
  }
 },
 "nbformat": 4,
 "nbformat_minor": 2
}
