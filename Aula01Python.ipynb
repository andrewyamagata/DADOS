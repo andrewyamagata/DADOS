{
 "cells": [
  {
   "cell_type": "markdown",
   "id": "8cacaf1e",
   "metadata": {},
   "source": [
    "Meu primeiro programa"
   ]
  },
  {
   "cell_type": "code",
   "execution_count": 1,
   "id": "25da4684",
   "metadata": {},
   "outputs": [
    {
     "name": "stdout",
     "output_type": "stream",
     "text": [
      "Hello, world!\n"
     ]
    }
   ],
   "source": [
    "print(\"Hello, world!\")"
   ]
  },
  {
   "cell_type": "code",
   "execution_count": 2,
   "id": "8921c9fc",
   "metadata": {},
   "outputs": [],
   "source": [
    "qtd_vendas = 1500"
   ]
  },
  {
   "cell_type": "code",
   "execution_count": 3,
   "id": "ab8c03bd",
   "metadata": {},
   "outputs": [
    {
     "name": "stdout",
     "output_type": "stream",
     "text": [
      "Lira 12000 1500\n"
     ]
    }
   ],
   "source": [
    "qtd_total = qtd_vendas * 8\n",
    "nome = \"Lira\"\n",
    "print(nome,qtd_total,qtd_vendas)"
   ]
  },
  {
   "cell_type": "markdown",
   "id": "48d8ab26",
   "metadata": {},
   "source": [
    "# ---------------------------------------------------------------------------------------------------------------"
   ]
  },
  {
   "cell_type": "markdown",
   "id": "749cc952",
   "metadata": {},
   "source": [
    "# Tipos de Variáveis em Python"
   ]
  },
  {
   "cell_type": "markdown",
   "id": "00ac2bf9",
   "metadata": {},
   "source": [
    "Uma variável é um objeto, afinal tudo é um objeto em Python\n",
    "\n",
    "int -> inteiro <br>\n",
    "string -> texto <br>\n",
    "float -> números com casas decimais (ponto flutuante) <br>\n",
    "bool ou boolean -> True ou False<br>\n",
    "\n",
    "Obs1: Variável em Python não são declaradas explicitamente, mas isso não significa que você deve ficar mudando o tempo todo<br>\n",
    "Obs2: Cuidado com os nomes restritos "
   ]
  },
  {
   "cell_type": "code",
   "execution_count": 4,
   "id": "97daeea8",
   "metadata": {},
   "outputs": [
    {
     "data": {
      "text/plain": [
       "int"
      ]
     },
     "execution_count": 4,
     "metadata": {},
     "output_type": "execute_result"
    }
   ],
   "source": [
    "faturamento = 1000\n",
    "type(faturamento)"
   ]
  },
  {
   "cell_type": "code",
   "execution_count": 5,
   "id": "9b30aaab",
   "metadata": {},
   "outputs": [
    {
     "data": {
      "text/plain": [
       "float"
      ]
     },
     "execution_count": 5,
     "metadata": {},
     "output_type": "execute_result"
    }
   ],
   "source": [
    "faturamento = 1000.00\n",
    "type(faturamento)"
   ]
  },
  {
   "cell_type": "code",
   "execution_count": 6,
   "id": "83617de6",
   "metadata": {},
   "outputs": [
    {
     "data": {
      "text/plain": [
       "str"
      ]
     },
     "execution_count": 6,
     "metadata": {},
     "output_type": "execute_result"
    }
   ],
   "source": [
    "faturamento = '1.000'\n",
    "type(faturamento)"
   ]
  },
  {
   "cell_type": "code",
   "execution_count": 7,
   "id": "6fde329e",
   "metadata": {},
   "outputs": [
    {
     "data": {
      "text/plain": [
       "bool"
      ]
     },
     "execution_count": 7,
     "metadata": {},
     "output_type": "execute_result"
    }
   ],
   "source": [
    "ganha_bonus = True\n",
    "type(ganha_bonus)"
   ]
  },
  {
   "cell_type": "markdown",
   "id": "325045dc",
   "metadata": {},
   "source": [
    "# ---------------------------------------------------------------------------------------------------------------"
   ]
  },
  {
   "cell_type": "markdown",
   "id": "c3f7ff09",
   "metadata": {},
   "source": [
    "# Condições no Python -> If\n",
    "\n",
    "## Estrutura:\n",
    "\n",
    "### Uso mais simples:"
   ]
  },
  {
   "cell_type": "markdown",
   "id": "2d122588",
   "metadata": {},
   "source": [
    "### Exemplo Real (informações 100% hipotéticas e inventadas):\n",
    "\n",
    "Digamos que você trabalha na Amazon (que tem centenas de milhares, se não milhões de produtos) e está analisando o resultado de vendas dos produtos.\n",
    "\n",
    "Você precisa criar um programa que vai analisar o resultado de vendas dos produtos da Amazon em um mês. Para simplificar vamos pensar em um único produto: um Iphone.\n",
    "\n",
    "Meta de Vendas do Iphone = 50.000 unidades <br>\n",
    "Quantidade vendida no Mês = 65.300 unidades\n",
    "\n",
    "O seu programa deve avisar (usaremos o print por enquanto) caso o produto tenha batido a meta do mês. Então devemos fazer:\n",
    "\n",
    "* Caso o produto tenha batido a meta, devemos exibir a mensagem: \"Batemos a meta de vendas de Iphone, vendemos {} unidades\"\n",
    "* Se ele não bateu a meta do mês, o seu programa não deve fazer nada"
   ]
  },
  {
   "cell_type": "code",
   "execution_count": 8,
   "id": "ad58fb28",
   "metadata": {},
   "outputs": [
    {
     "name": "stdout",
     "output_type": "stream",
     "text": [
      "Bateu a meta, com 65300 quantidades vendidas\n",
      "Fim do programa\n"
     ]
    }
   ],
   "source": [
    "meta = 50000\n",
    "qtd_vendida = 65300\n",
    " \n",
    "if qtd_vendida > meta:\n",
    "    print(\"Bateu a meta, com {} quantidades vendidas\".format(qtd_vendida))\n",
    "else:\n",
    "    print(\"Não bateu a meta, vendendo somente {} unidades\".format(qtd_vendida))\n",
    "print(\"Fim do programa\")"
   ]
  },
  {
   "cell_type": "markdown",
   "id": "051e7d23",
   "metadata": {},
   "source": [
    "### Tratando a condição falsa:\n",
    "\n",
    "Quando usamos o if, nem sempre queremos apenas analisar o caso verdadeiro, em boa parte das vezes queremos fazer alguma coisa caso a condição seja verdadeira e fazer outra coisa caso a condição seja falsa.\n",
    "\n",
    "Nesse caso usaremos:\n",
    "\n",
    "O tipo de célula não é suportado. Clique duas vezes para inspecionar/editar o conteúdo.\n",
    "Voltando ao nosso Exemplo Real da Amazon e do Iphone, agora nossa programa deve avisar nos 2 casos:\n",
    "\n",
    "* Caso o produto tenha batido a meta, devemos exibir a mensagem: \"Batemos a meta de vendas de Iphone, vendemos {} unidades\"\n",
    "* Se ele não bateu a meta do mês, devemos exibir a mensagem: \"Infelizmente não batemos a meta, vendemos {} unidades. A meta era de {} unidades\""
   ]
  },
  {
   "cell_type": "code",
   "execution_count": 9,
   "id": "95187251",
   "metadata": {},
   "outputs": [
    {
     "name": "stdout",
     "output_type": "stream",
     "text": [
      "Não bateu a meta, vendendo somente 600 unidades\n",
      "Fim do programa\n"
     ]
    }
   ],
   "source": [
    "meta = 50000\n",
    "qtd_vendida = 600\n",
    " \n",
    "if qtd_vendida > meta:\n",
    "    print(\"Bateu a meta, com {} quantidades vendidas\".format(qtd_vendida))\n",
    "else:\n",
    "    print(\"Não bateu a meta, vendendo somente {} unidades\".format(qtd_vendida))\n",
    "print(\"Fim do programa\")"
   ]
  },
  {
   "cell_type": "markdown",
   "id": "f5e29143",
   "metadata": {},
   "source": [
    "## elif"
   ]
  },
  {
   "cell_type": "markdown",
   "id": "48b3c39d",
   "metadata": {},
   "source": [
    "if condição:<br>\n",
    "    o que fazer se a condição 1 for verdadeira<br>\n",
    "elif condição_2:<br>\n",
    "    o que fazer se a condição 1 for falsa e a condição 2 for verdadeira<br>\n",
    "else:<br>\n",
    "    o que fazer se a condição 1 e a condição 2 forem falsas<br>"
   ]
  },
  {
   "cell_type": "code",
   "execution_count": 10,
   "id": "6d9b94f6",
   "metadata": {},
   "outputs": [
    {
     "name": "stdout",
     "output_type": "stream",
     "text": [
      "Não ganhou bônus\n"
     ]
    }
   ],
   "source": [
    "meta = 20000\n",
    "vendas = 19000\n",
    "\n",
    "if vendas < meta:\n",
    "    print(\"Não ganhou bônus\")\n",
    "elif vendas > (meta * 2):\n",
    "    bonus = 0.07 * vendas\n",
    "    print(\"Ganhou {} de bônus\".format(bonus))\n",
    "else:\n",
    "    bonus =  0.03 * vendas\n",
    "    print(\"Ganhou {} de bônus\".format(bonus))"
   ]
  },
  {
   "cell_type": "markdown",
   "id": "3767f5aa",
   "metadata": {},
   "source": [
    "# ---------------------------------------------------------------------------------------------------------------"
   ]
  },
  {
   "cell_type": "markdown",
   "id": "388cc569",
   "metadata": {},
   "source": [
    "# Comparadores"
   ]
  },
  {
   "cell_type": "markdown",
   "id": "fd1c0a20",
   "metadata": {},
   "source": [
    "* \"==\"    igual<br>\n",
    "* \"!=\"    diferente<br>\n",
    "* \">\"     maior que (>= maior ou igual)<br>\n",
    "* \"<\"     menor que (<= menor ou igual)<br>\n",
    "* \"in\"    texto existe dentro de outro texto <br>\n",
    "* \"not\"   verifica o contrário da comparação<br>\n",
    "\n",
    "Obs: Se em alguma condição você não quiser fazer nada, você pode simplesmente escrever:<br>\n",
    "pass"
   ]
  },
  {
   "cell_type": "code",
   "execution_count": 11,
   "id": "41f9b73e",
   "metadata": {},
   "outputs": [
    {
     "name": "stdout",
     "output_type": "stream",
     "text": [
      "Programa 1\n",
      "Os faturamentos são diferentes\n"
     ]
    }
   ],
   "source": [
    "faturamento_loja_1 = 2500\n",
    "faturamento_loja_2 = 2200\n",
    "email = \"liragmail.com\"\n",
    "\n",
    "print(\"Programa 1\")\n",
    "if faturamento_loja_1 == faturamento_loja_2:\n",
    "    print(\"Os faturamentos são iguais\")\n",
    "else:\n",
    "    print(\"Os faturamentos são diferentes\")"
   ]
  },
  {
   "cell_type": "code",
   "execution_count": 12,
   "id": "091864c2",
   "metadata": {},
   "outputs": [
    {
     "name": "stdout",
     "output_type": "stream",
     "text": [
      "Programa 2\n",
      "E-mail errado\n"
     ]
    }
   ],
   "source": [
    "print(\"Programa 2\")\n",
    "if email == \"lira@gmail.com\":\n",
    "    print(\"Esse é o e-mail do Lira\")\n",
    "else:\n",
    "    print(\"E-mail errado\")"
   ]
  },
  {
   "cell_type": "code",
   "execution_count": 13,
   "id": "ac783a1f",
   "metadata": {},
   "outputs": [
    {
     "name": "stdout",
     "output_type": "stream",
     "text": [
      "Programa 3\n",
      "Insira seu e-mail: zxZX\n",
      "E-mail inválido\n"
     ]
    }
   ],
   "source": [
    "print(\"Programa 3\")\n",
    "email_usuario = input(\"Insira seu e-mail: \")\n",
    "if not \"@\" in email_usuario:\n",
    "    print(\"E-mail inválido\")\n",
    "else:\n",
    "    pass"
   ]
  },
  {
   "cell_type": "markdown",
   "id": "7c3f0283",
   "metadata": {},
   "source": [
    "# ---------------------------------------------------------------------------------------------------------------"
   ]
  },
  {
   "cell_type": "markdown",
   "id": "d9e29b14",
   "metadata": {},
   "source": [
    "# And e OR"
   ]
  },
  {
   "cell_type": "code",
   "execution_count": 21,
   "id": "00b3053e",
   "metadata": {},
   "outputs": [
    {
     "name": "stdout",
     "output_type": "stream",
     "text": [
      "Funcionário não ganhou bônus\n"
     ]
    }
   ],
   "source": [
    "meta_funcionario = 10000\n",
    "meta_loja = 250000\n",
    "vendas_funcionario = 2000\n",
    "vendas_loja = 2500000\n",
    "\n",
    "if vendas_funcionario > meta_funcionario and vendas_loja > meta_loja:\n",
    "    bonus = 0.03 * vendas_funcionario\n",
    "    print(\"O bônus do funcionário foi de {}\".format(bonus))\n",
    "else:\n",
    "    print(\"Funcionário não ganhou bônus\")"
   ]
  },
  {
   "cell_type": "code",
   "execution_count": 22,
   "id": "b561bbfc",
   "metadata": {},
   "outputs": [
    {
     "name": "stdout",
     "output_type": "stream",
     "text": [
      "O bônus do funcionário foi de 60.0\n"
     ]
    }
   ],
   "source": [
    "nota_funcionario = 9\n",
    "meta_nota = 9\n",
    "\n",
    "if nota_funcionario >= meta_nota or (vendas_funcionario > meta_funcionario and vendas_loja > meta_loja):\n",
    "    bonus = 0.03 * vendas_funcionario\n",
    "    print(\"O bônus do funcionário foi de {}\".format(bonus))\n",
    "else:\n",
    "    print(\"Funcionário não ganhou bônus\")"
   ]
  },
  {
   "cell_type": "markdown",
   "id": "ae2cf542",
   "metadata": {},
   "source": [
    "# ---------------------------------------------------------------------------------------------------------------"
   ]
  },
  {
   "cell_type": "markdown",
   "id": "04a32884",
   "metadata": {},
   "source": [
    "# Índice e Tamanho de String"
   ]
  },
  {
   "cell_type": "markdown",
   "id": "73bff289",
   "metadata": {},
   "source": [
    "O índice começa no 0\n",
    "\n",
    "O índice negativo termina em -1, bom para pegar de trás para frente\n",
    "\n",
    "Para saber o tamanho de um texto usar len<br>\n",
    "Para pegar o pedaço de um texto usar : (dois pontos)\n",
    "\n",
    "\n"
   ]
  },
  {
   "cell_type": "code",
   "execution_count": 41,
   "id": "10d36793",
   "metadata": {},
   "outputs": [
    {
     "name": "stdout",
     "output_type": "stream",
     "text": [
      "14\n",
      "9\n",
      "m\n",
      "J\n",
      "m\n",
      "J\n",
      "lira@gmail.co\n",
      "lira@\n",
      "@gmail.com\n",
      ".com\n",
      "@\n"
     ]
    }
   ],
   "source": [
    "email = \"lira@gmail.com\"\n",
    "nome = \"João Lira\"\n",
    "\n",
    "print(len(email))\n",
    "print(len(nome))\n",
    "\n",
    "print(email[13])\n",
    "print(nome[0])\n",
    "\n",
    "print(email[-1])\n",
    "print(nome[-9])\n",
    "\n",
    "print(email[:-1])\n",
    "print(email[:5])\n",
    "\n",
    "print(email[4:])\n",
    "print(email[-4:])\n",
    "\n",
    "print(email[4:5])"
   ]
  },
  {
   "cell_type": "code",
   "execution_count": 51,
   "id": "fb53adb8",
   "metadata": {},
   "outputs": [
    {
     "name": "stdout",
     "output_type": "stream",
     "text": [
      "Tamanho do e-mail 14 caracteres\n",
      "Primeiro caractere l\n",
      "Primeiro caractere l\n",
      "Último caractere m\n",
      "Servidor do email gmail\n"
     ]
    }
   ],
   "source": [
    "print(\"Tamanho do e-mail \" + str(len(email)) + \" caracteres\")\n",
    "print(\"Primeiro caractere \" + email[-1*len(email)])\n",
    "print(\"Primeiro caractere \" + email[0])\n",
    "print(\"Último caractere \" + email[-1])\n",
    "print(\"Servidor do email \" + email[5:-4])"
   ]
  },
  {
   "cell_type": "markdown",
   "id": "e0fa3b26",
   "metadata": {},
   "source": [
    "# ---------------------------------------------------------------------------------------------------------------"
   ]
  },
  {
   "cell_type": "markdown",
   "id": "745c50fc",
   "metadata": {},
   "source": [
    "# \"Fórmulas\" de Texto - Métodos de String"
   ]
  },
  {
   "cell_type": "markdown",
   "id": "2eabd1ec",
   "metadata": {},
   "source": [
    "# Estrutura:\n",
    "- Normalmente usamos a estrutura texto.metodo() para fazer as mdificações que queremos\n",
    "- Alguns métodos pedem \"argumentos\", que são iformações que temos que passar para a fórmula (método) para ela funcionar. Esses argumentos são passados dentro do parênteses"
   ]
  },
  {
   "cell_type": "markdown",
   "id": "d7d401fd",
   "metadata": {},
   "source": [
    "# Como usar:\n",
    "\n",
    "Não decore os métodos, os que você for mais usando com o tempo você vai decorar o que precisar.\n",
    "\n",
    "Mas a dica é: use essa lista para consultar e busque entender como o métodos funcionam e suas aplicações, para poder consultar e usar quando precisar.\n",
    "\n",
    "- capitalize() -> Coloca a 1º letra Maiúscula"
   ]
  },
  {
   "cell_type": "markdown",
   "id": "bce97dd6",
   "metadata": {},
   "source": [
    "Uso:\n",
    "    texto = 'lira'\n",
    "    print(texto.capitalize())\n",
    "Resultado:\n",
    "    'Lira'"
   ]
  },
  {
   "cell_type": "markdown",
   "id": "b5574897",
   "metadata": {},
   "source": [
    "- casefold() -> Transforma todas as letras em minúsculas (existe lower() mas o casefold é melhor normalmente)"
   ]
  },
  {
   "cell_type": "markdown",
   "id": "2b6b1803",
   "metadata": {},
   "source": [
    "Uso:\n",
    "    texto = 'Lira'\n",
    "    print(texto.casefold())\n",
    "Resultado:\n",
    "    'lira'"
   ]
  },
  {
   "cell_type": "markdown",
   "id": "1ac49566",
   "metadata": {},
   "source": [
    "- count() -> Quantidade de vezes que um valor aparece na string"
   ]
  },
  {
   "cell_type": "markdown",
   "id": "4a56aa0e",
   "metadata": {},
   "source": [
    "Uso:\n",
    "    texto = 'lira@yahoo.com.br'\n",
    "    print(texto.count('.'))\n",
    "Resultado:\n",
    "    2"
   ]
  },
  {
   "cell_type": "markdown",
   "id": "0f06a991",
   "metadata": {},
   "source": [
    "- endswith() -> Verifica se o texto temina com um valor específico e dá como resposta True ou False"
   ]
  },
  {
   "cell_type": "markdown",
   "id": "a302c9d6",
   "metadata": {},
   "source": [
    "Uso:\n",
    "    texto = 'lira@gmail.com'\n",
    "    print(texto.endswith('gmail.com'))\n",
    "Resultado:\n",
    "    True"
   ]
  },
  {
   "cell_type": "markdown",
   "id": "781d94f2",
   "metadata": {},
   "source": [
    "- find() -> Procura um texto dentro de outro texto e dá como resposta a posição do texto encontrado"
   ]
  },
  {
   "cell_type": "markdown",
   "id": "ef6de3ee",
   "metadata": {},
   "source": [
    "Uso:\n",
    "    texto = 'lira@gmail.com'\n",
    "    print(texto.find('@'))\n",
    "Resultado:\n",
    "    4"
   ]
  },
  {
   "cell_type": "markdown",
   "id": "ba307825",
   "metadata": {},
   "source": [
    "- format() -> Formata uma string de acordo com os valores passados. Já usamos bastante ao longo do programa."
   ]
  },
  {
   "cell_type": "markdown",
   "id": "06564ca1",
   "metadata": {},
   "source": [
    "Uso:\n",
    "    faturamento = 1000\n",
    "    print('O faturamento da loja foi de {} reais'.format(faturamento))\n",
    "Resultado:\n",
    "    'O faturamento da loja foi de 1000 reais'"
   ]
  },
  {
   "cell_type": "markdown",
   "id": "08171beb",
   "metadata": {},
   "source": [
    "- isalnum() -> Verifica se um texto é todo feito com caracteres alfanuméricos (letras e números) -> letras com acento ou ç são considerados letras para essa função.\n",
    "\n",
    "- isalpha() -> Verifica se um texto é todo feito de letras.\n",
    "\n",
    "- isnumeric() -> Verifica se um texto é todo feito por números."
   ]
  },
  {
   "cell_type": "markdown",
   "id": "85abd0e2",
   "metadata": {},
   "source": [
    "Uso:\n",
    "    texto = 'João123'\n",
    "    print(texto.isalnum())\n",
    "Resultado:\n",
    "    True\n",
    "Obs: se o texto fosse 'Jo~ao' ou 'Joao#' o resultado seria False\n",
    "\n",
    "------------------------------------------------------\n",
    "\n",
    "Uso:\n",
    "    texto = 'João'\n",
    "    print(texto.isalpha())\n",
    "Resultado:\n",
    "    True\n",
    "Obs: se o texto fosse 'João123' o resultado seria False\n",
    "\n",
    "------------------------------------------------------\n",
    "\n",
    "Uso:\n",
    "    texto = '123'\n",
    "    print(texto.isnumeric())\n",
    "Resultado:\n",
    "    True\n",
    "Obs: existem os métodos isdigit() e isdecimal() que tem variações pontuais em caracteres especiais tipo textos com potências, mas para 99% dos casos eles não vão ser necessários."
   ]
  },
  {
   "cell_type": "markdown",
   "id": "d4418a98",
   "metadata": {},
   "source": [
    "- replace() -> Substitui um texto por outro texto em uma string."
   ]
  },
  {
   "cell_type": "markdown",
   "id": "188dac14",
   "metadata": {},
   "source": [
    "Uso:\n",
    "    texto = '1000.00'\n",
    "    print(texto.replace('.', ','))\n",
    "Resultado:\n",
    "    '1000,00'\n",
    "Obs: o replace precisa de 2 argumentos para funcionar. O 1º é o texto que você quer trocar. O 2º é o texto que você quer colocar no lugar daquele texto que você está tirando."
   ]
  },
  {
   "cell_type": "markdown",
   "id": "0ab8c9c3",
   "metadata": {},
   "source": [
    "- split() -> Separa uma string de acordo com um delimitador em vários textos diferentes."
   ]
  },
  {
   "cell_type": "markdown",
   "id": "8d37730a",
   "metadata": {},
   "source": [
    "Uso:\n",
    "    texto = 'lira@gmail.com'\n",
    "    print(texto.split('@'))\n",
    "Resultado:\n",
    "    ['lira', 'gmail.com']"
   ]
  },
  {
   "cell_type": "markdown",
   "id": "ebaa1355",
   "metadata": {},
   "source": [
    "- splitlines() -> Separa um texto em vários textos de acordo com os \"enters\" do texto"
   ]
  },
  {
   "cell_type": "markdown",
   "id": "cea437eb",
   "metadata": {},
   "source": [
    "Uso:\n",
    "    texto = '''Olá, bom dia\n",
    "    Venho por meio desse e-mail lhe informar o faturamento da loja n dia de hoje.\n",
    "    Faturamento = R$2.500,00\n",
    "    '''\n",
    "    print(texto.splitlines())\n",
    "Resultado:\n",
    "    ['Olá, bom dia', 'Venho por meio desse e-mail lhe informar o faturamento da loja n dia de hoje.', 'Faturamento = R$2.500,00']"
   ]
  },
  {
   "cell_type": "markdown",
   "id": "0f3e9937",
   "metadata": {},
   "source": [
    "- startswith() -> Verifica se a string começa com determinado texto"
   ]
  },
  {
   "cell_type": "markdown",
   "id": "e1e16c3a",
   "metadata": {},
   "source": [
    "Uso:\n",
    "    texto = 'lira@gmail.com'\n",
    "    print(texto.startswith('lira'))\n",
    "Resultado:\n",
    "    True"
   ]
  },
  {
   "cell_type": "markdown",
   "id": "e106e2c4",
   "metadata": {},
   "source": [
    "- strip() -> Retira caracteres indesejados dos textos. Por padrão, retira espaços \"extras\" no início e no final."
   ]
  },
  {
   "cell_type": "markdown",
   "id": "3cf4a408",
   "metadata": {},
   "source": [
    "Uso:\n",
    "    texto = '  lira@gmail.com   '\n",
    "    print(texto.strip())\n",
    "Resultado:\n",
    "    'lira@gmail.com'"
   ]
  },
  {
   "cell_type": "markdown",
   "id": "9e0c54b1",
   "metadata": {},
   "source": [
    "- title() -> Coloca a 1º letra de cada palavra em maiúscula"
   ]
  },
  {
   "cell_type": "markdown",
   "id": "c191c5ee",
   "metadata": {},
   "source": [
    "Uso:\n",
    "    texto = 'joão paulo lira'\n",
    "    print(texto.title())\n",
    "Resultado:\n",
    "    'João Paulo Lira'"
   ]
  },
  {
   "cell_type": "markdown",
   "id": "1ac971ea",
   "metadata": {},
   "source": [
    "- upper() -> Coloca o texto todo em letra maiúscula."
   ]
  },
  {
   "cell_type": "markdown",
   "id": "66e423a6",
   "metadata": {},
   "source": [
    "Uso:\n",
    "    texto = 'joão lira'\n",
    "    print(texto.upper())\n",
    "Resultado:\n",
    "    'JOÃO LIRA'"
   ]
  },
  {
   "cell_type": "markdown",
   "id": "261d0f24",
   "metadata": {},
   "source": [
    "# ---------------------------------------------------------------------------------------------------------------"
   ]
  },
  {
   "cell_type": "markdown",
   "id": "91a155d7",
   "metadata": {},
   "source": [
    "# Listas em Python"
   ]
  },
  {
   "cell_type": "markdown",
   "id": "fb31f6d3",
   "metadata": {},
   "source": [
    "## Estrutura:\n",
    "\n",
    "lista = [valor, valor, valor, ...]\n",
    "\n",
    "- Foram feitas para serem homogêneas, apesar de aceitarem valores heterogêneos"
   ]
  },
  {
   "cell_type": "code",
   "execution_count": 9,
   "id": "9fcc40ef",
   "metadata": {},
   "outputs": [
    {
     "name": "stdout",
     "output_type": "stream",
     "text": [
      "['tv', 'celular', 'mouse', 'teclado', 'tablet']\n",
      "celular\n"
     ]
    }
   ],
   "source": [
    "nome = 'celular'\n",
    "produtos = ['tv', nome, 'mouse', 'teclado', 'tablet']\n",
    "print(produtos)\n",
    "print(produtos[1])"
   ]
  },
  {
   "cell_type": "code",
   "execution_count": 12,
   "id": "5f5f7dc8",
   "metadata": {},
   "outputs": [
    {
     "name": "stdout",
     "output_type": "stream",
     "text": [
      "[1000, 1500, 350, 270, 900]\n",
      "1000\n"
     ]
    }
   ],
   "source": [
    "vendas = [1000, 1500, 350, 270, 900]\n",
    "print(vendas)\n",
    "print(vendas[0])"
   ]
  },
  {
   "cell_type": "code",
   "execution_count": 15,
   "id": "7dc89787",
   "metadata": {},
   "outputs": [
    {
     "name": "stdout",
     "output_type": "stream",
     "text": [
      "Vendas do produto teclado foram de 300\n"
     ]
    }
   ],
   "source": [
    "vendas[3] = 300\n",
    "print(\"Vendas do produto {} foram de {}\".format(produtos[3], vendas[3]))"
   ]
  },
  {
   "cell_type": "code",
   "execution_count": 18,
   "id": "b240a601",
   "metadata": {},
   "outputs": [
    {
     "name": "stdout",
     "output_type": "stream",
     "text": [
      "mira@gmaim.com\n"
     ]
    }
   ],
   "source": [
    "    texto = 'lira@gmail.com'\n",
    "    print(texto.replace('l', 'm'))"
   ]
  },
  {
   "cell_type": "markdown",
   "id": "294ccfce",
   "metadata": {},
   "source": [
    "# ---------------------------------------------------------------------------------------------------------------"
   ]
  },
  {
   "cell_type": "markdown",
   "id": "6b6e293e",
   "metadata": {},
   "source": [
    "# Estrutura de Repetição: for"
   ]
  },
  {
   "cell_type": "code",
   "execution_count": 2,
   "id": "a295bcff",
   "metadata": {},
   "outputs": [
    {
     "name": "stdout",
     "output_type": "stream",
     "text": [
      "lira\n",
      "lira\n",
      "lira\n",
      "lira\n",
      "lira\n"
     ]
    }
   ],
   "source": [
    "for a in range(5):\n",
    "    print('lira')"
   ]
  },
  {
   "cell_type": "code",
   "execution_count": 22,
   "id": "91987f5d",
   "metadata": {},
   "outputs": [
    {
     "name": "stdout",
     "output_type": "stream",
     "text": [
      "0\n",
      "1\n",
      "2\n",
      "3\n",
      "4\n"
     ]
    }
   ],
   "source": [
    "for i in range(5):\n",
    "    print(i)"
   ]
  },
  {
   "cell_type": "code",
   "execution_count": 28,
   "id": "d0e84fb2",
   "metadata": {},
   "outputs": [
    {
     "name": "stdout",
     "output_type": "stream",
     "text": [
      "15000 unidades produzidas de coca\n",
      "12000 unidades produzidas de pepsi\n",
      "13000 unidades produzidas de guarana\n",
      "5000 unidades produzidas de sprite\n",
      "250 unidades produzidas de fanta\n"
     ]
    }
   ],
   "source": [
    "produtos = ['coca', 'pepsi', 'guarana', 'sprite', 'fanta']\n",
    "producao = [15000, 12000, 13000, 5000, 250]\n",
    "\n",
    "tamanho = len(produtos)\n",
    "for i in range(tamanho):\n",
    "    print('{} unidades produzidas de {}'.format(producao[i], produtos[i]))"
   ]
  },
  {
   "cell_type": "markdown",
   "id": "5deb8b6b",
   "metadata": {},
   "source": [
    "## For \"each\""
   ]
  },
  {
   "cell_type": "code",
   "execution_count": 7,
   "id": "f99e0d75",
   "metadata": {},
   "outputs": [
    {
     "name": "stdout",
     "output_type": "stream",
     "text": [
      "coca\n",
      "pepsi\n",
      "guarana\n",
      "sprite\n",
      "fanta\n",
      "-----\n",
      "coca\n",
      "pepsi\n",
      "guarana\n",
      "sprite\n",
      "fanta\n",
      "-----\n",
      "O produto é coca\n",
      "O produto é pepsi\n",
      "O produto é guarana\n",
      "O produto é sprite\n",
      "O produto é fanta\n",
      "-----\n",
      "l\n",
      "i\n",
      "r\n",
      "a\n",
      "@\n",
      "g\n",
      "m\n",
      "a\n",
      "i\n",
      "l\n",
      ".\n",
      "c\n",
      "o\n",
      "m\n"
     ]
    }
   ],
   "source": [
    "produtos = ['coca', 'pepsi', 'guarana', 'sprite', 'fanta']\n",
    "texto = \"lira@gmail.com\"\n",
    "\n",
    "for i  in range(5):\n",
    "    print(produtos[i])\n",
    "    \n",
    "print(\"-----\")\n",
    "\n",
    "for item in produtos:\n",
    "    print(item)\n",
    "        \n",
    "print(\"-----\")\n",
    "\n",
    "for produto in  produtos:\n",
    "    print('O produto é {}'.format(produto))\n",
    "    \n",
    "print(\"-----\")\n",
    "\n",
    "for ch in texto:\n",
    "    print(ch)"
   ]
  },
  {
   "cell_type": "markdown",
   "id": "56682407",
   "metadata": {},
   "source": [
    "## for + if"
   ]
  },
  {
   "cell_type": "code",
   "execution_count": 14,
   "id": "6af19dde",
   "metadata": {},
   "outputs": [
    {
     "name": "stdout",
     "output_type": "stream",
     "text": [
      "O percentual de pessoas que bateram a meta foi de 26.09%\n"
     ]
    }
   ],
   "source": [
    "vendas = [1200, 300, 800, 1500, 1900, 2750, 400, 20, 23, 70, 90, 80, 1100, 999, 900, 880, 870, 50, 1111, 120, 300, 450, 800]\n",
    "meta = 1000\n",
    "\n",
    "qtd_bateu_meta = 0\n",
    "qtd_funcionario = len(vendas)\n",
    "for item in vendas:\n",
    "    if item >= meta:\n",
    "        qtd_bateu_meta += 1\n",
    "        \n",
    "print(\"O percentual de pessoas que bateram a meta foi de {:.2%}\".format(qtd_bateu_meta/qtd_funcionario))"
   ]
  },
  {
   "cell_type": "markdown",
   "id": "0b198b4b",
   "metadata": {},
   "source": [
    "## Estrutura while:\n",
    "Funcionamento:\n",
    "Usamos o while quando queremos repetir um código de forma indeterminada até uma condição se tornar verdadeira/falsa.\n",
    "\n",
    "A lógica é: enquanto a condição for verdadeira, o while executa o código. Assim que ela terminar de ser verdadeira, o código \"sai\" do while."
   ]
  },
  {
   "cell_type": "code",
   "execution_count": 15,
   "id": "c06ad974",
   "metadata": {},
   "outputs": [
    {
     "name": "stdout",
     "output_type": "stream",
     "text": [
      "Registre um produto. Para cancelar o registro de um novo produto, basta apertar enter com a caixa vaziaarroz\n",
      "Registre um produto. Para cancelar o registro de um novo produto, basta apertar enter com a caixa vaziamacarrao\n",
      "Registre um produto. Para cancelar o registro de um novo produto, basta apertar enter com a caixa vaziavagem\n",
      "Registre um produto. Para cancelar o registro de um novo produto, basta apertar enter com a caixa vaziacenoura\n",
      "Registre um produto. Para cancelar o registro de um novo produto, basta apertar enter com a caixa vazia\n",
      "Registro Finalizado. As vendas cadastradas foram: ['arroz', 'macarrao', 'vagem', 'cenoura']\n"
     ]
    }
   ],
   "source": [
    "venda = input('Registre um produto. Para cancelar o registro de um novo produto, basta apertar enter com a caixa vazia')\n",
    "vendas_registro = []\n",
    "#crie aqui o programa\n",
    "\n",
    "while venda != '':\n",
    "    vendas_registro.append(venda)\n",
    "    venda = input('Registre um produto. Para cancelar o registro de um novo produto, basta apertar enter com a caixa vazia')\n",
    "\n",
    "print('Registro Finalizado. As vendas cadastradas foram: {}'.format(vendas_registro))"
   ]
  },
  {
   "cell_type": "markdown",
   "id": "b92a9c20",
   "metadata": {},
   "source": [
    "# Cuidado com o while -> Loop Infinito\n",
    "Sempre que for usar o comando while, lembre-se de ter certeza que o programa vai terminar em algum momento\n",
    "\n",
    "### Exemplo\n",
    "Digamos que temos uma lista de vendedores e as quantidades vendidas e queremos identificar todos os vendedores que bateram a meta de 50 vendas."
   ]
  },
  {
   "cell_type": "code",
   "execution_count": 18,
   "id": "8ac7a5cd",
   "metadata": {},
   "outputs": [
    {
     "name": "stdout",
     "output_type": "stream",
     "text": [
      "Maria bateu a meta. Vendas: 941\n",
      "José bateu a meta. Vendas: 852\n",
      "Antônio bateu a meta. Vendas: 783\n",
      "João bateu a meta. Vendas: 714\n",
      "Francisco bateu a meta. Vendas: 697\n",
      "Ana bateu a meta. Vendas: 686\n",
      "Luiz bateu a meta. Vendas: 685\n",
      "Paulo bateu a meta. Vendas: 670\n",
      "Carlos bateu a meta. Vendas: 631\n",
      "Manoel bateu a meta. Vendas: 453\n",
      "Pedro bateu a meta. Vendas: 386\n",
      "Francisca bateu a meta. Vendas: 371\n",
      "Marcos bateu a meta. Vendas: 294\n",
      "Raimundo bateu a meta. Vendas: 269\n",
      "Sebastião bateu a meta. Vendas: 259\n",
      "Antônia bateu a meta. Vendas: 218\n",
      "Marcelo bateu a meta. Vendas: 208\n"
     ]
    }
   ],
   "source": [
    "vendas = [941, 852, 783, 714, 697, 686, 685, 670, 631, 453, 386, 371, 294, 269, 259, 218, 208, 163, 125, 102, 87, 47, 7]\n",
    "vendedores = ['Maria', 'José', 'Antônio', 'João', 'Francisco', 'Ana', 'Luiz', 'Paulo', 'Carlos', 'Manoel', 'Pedro', 'Francisca', 'Marcos', 'Raimundo', 'Sebastião', 'Antônia', 'Marcelo', 'Jorge', 'Márcia', 'Geraldo', 'Adriana', 'Sandra', 'Luis']\n",
    "meta = 200\n",
    "\n",
    "i = 0\n",
    "\n",
    "while vendas[i] > meta:\n",
    "    print('{} bateu a meta. Vendas: {}'. format(vendedores[i],vendas[i]))\n",
    "    i = i +1"
   ]
  },
  {
   "cell_type": "markdown",
   "id": "7b124543",
   "metadata": {},
   "source": [
    "# Tuplas"
   ]
  },
  {
   "cell_type": "markdown",
   "id": "eeb2acb7",
   "metadata": {},
   "source": [
    "## Estrutura:\n",
    "\n",
    "tupla = (valor, valor, valor, ...)\n",
    "\n",
    "- Parece uma lista, mas é imutável.\n",
    "- Mais eficiente em termos de performance\n",
    "- Muito usado para dados heterogêneos"
   ]
  },
  {
   "cell_type": "code",
   "execution_count": 19,
   "id": "aa9d7b59",
   "metadata": {},
   "outputs": [
    {
     "name": "stdout",
     "output_type": "stream",
     "text": [
      "('Lira', '25/08/2020', '15/02/1994', 2000, 'Estagiário')\n"
     ]
    }
   ],
   "source": [
    "vendas = ('Lira', '25/08/2020', '15/02/1994', 2000, 'Estagiário')\n",
    "print(vendas)"
   ]
  },
  {
   "cell_type": "code",
   "execution_count": 20,
   "id": "d606e888",
   "metadata": {},
   "outputs": [
    {
     "name": "stdout",
     "output_type": "stream",
     "text": [
      "Estagiário\n"
     ]
    }
   ],
   "source": [
    "nome = vendas[0]\n",
    "data_contratacao = vendas[1] \n",
    "data_nascimento = vendas[2]\n",
    "salario = vendas[3]\n",
    "cargo = vendas[4]\n",
    "\n",
    "print(cargo)"
   ]
  },
  {
   "cell_type": "code",
   "execution_count": 21,
   "id": "878342af",
   "metadata": {},
   "outputs": [
    {
     "name": "stdout",
     "output_type": "stream",
     "text": [
      "2000\n"
     ]
    }
   ],
   "source": [
    "name, date_contract, birthday, salary, job = vendas\n",
    "print(salary)"
   ]
  },
  {
   "cell_type": "markdown",
   "id": "2bc59a01",
   "metadata": {},
   "source": [
    "- o enumerate que vínhamos usando até agora, na verdade, cria uma tupla para a gente. Vamos ver na prática:"
   ]
  },
  {
   "cell_type": "code",
   "execution_count": 22,
   "id": "3c39c994",
   "metadata": {},
   "outputs": [
    {
     "name": "stdout",
     "output_type": "stream",
     "text": [
      "João vendeu 1000 unidades\n",
      "Lira vendeu 2000 unidades\n",
      "Ana vendeu 300 unidades\n",
      "Maria vendeu 300 unidades\n",
      "Paula vendeu 150 unidades\n"
     ]
    }
   ],
   "source": [
    "vendas = [1000, 2000, 300, 300, 150]\n",
    "funcionarios = ['João', 'Lira', 'Ana', 'Maria', 'Paula']\n",
    "\n",
    "for i, venda in enumerate(vendas):\n",
    "        print('{} vendeu {} unidades'.format(funcionarios[i], venda))"
   ]
  },
  {
   "cell_type": "markdown",
   "id": "ba9aa3b9",
   "metadata": {},
   "source": [
    "# Dicionários em Python\n",
    "\n",
    "### Estrutura:\n",
    "\n",
    "dicionario = {chave: valor, chave: valor, chave: valor, chave: valor ...}\n",
    "\n",
    "### Vantagens e Desvantagens\n",
    "\n",
    "- Não devem ser usados para pegar itens em uma determinada ordem\n",
    "- Podem ter valores heterogêneos (vários tipos de valores dentro de um mesmo dicionário: inteiros, strings, listas, etc)\n",
    "- Chaves são únicas obrigatoriamente\n",
    "- Mais intuitivos de trabalhar"
   ]
  },
  {
   "cell_type": "code",
   "execution_count": 24,
   "id": "11af5b14",
   "metadata": {},
   "outputs": [],
   "source": [
    "mais_vendidos = {'tecnologia': 'iphone', 'refrigeracao': 'ar consul 12000 btu', 'livros': 'o alquimista', 'eletrodoméstico': 'geladeira', 'lazer': 'prancha surf'}\n",
    "\n",
    "vendas_tecnologia = {'iphone': 15000, 'samsung galaxy': 12000, 'tv samsung': 10000, 'ps5': 14300, 'tablet': 1720, 'ipad': 1000, 'tv philco': 2500, 'notebook hp': 1000, 'notebook dell': 17000, 'notebook asus': 2450}"
   ]
  },
  {
   "cell_type": "markdown",
   "id": "49fa51b4",
   "metadata": {},
   "source": [
    "- Qual foi o item mais vendido nas categorias 'livros' e 'lazer'?\n",
    "- Quanto foi vendido de 'notebook asus' e de 'ipad'?"
   ]
  },
  {
   "cell_type": "code",
   "execution_count": 25,
   "id": "c4767c7f",
   "metadata": {},
   "outputs": [
    {
     "name": "stdout",
     "output_type": "stream",
     "text": [
      "14300\n"
     ]
    }
   ],
   "source": [
    "qtd_iphone = vendas_tecnologia['ps5']\n",
    "print(qtd_iphone)"
   ]
  },
  {
   "cell_type": "code",
   "execution_count": 28,
   "id": "9b281b22",
   "metadata": {},
   "outputs": [
    {
     "name": "stdout",
     "output_type": "stream",
     "text": [
      "o alquimista\n",
      "prancha surf\n",
      "2450\n",
      "1000\n"
     ]
    }
   ],
   "source": [
    "livro = mais_vendidos['livros']\n",
    "lazer = mais_vendidos['lazer']\n",
    "\n",
    "print(livro)\n",
    "print(lazer)\n",
    "\n",
    "qtde_note_asus = vendas_tecnologia['notebook asus']\n",
    "qtd_ipad = vendas_tecnologia['ipad']\n",
    "print(qtde_note_asus)\n",
    "print(qtd_ipad)"
   ]
  },
  {
   "cell_type": "markdown",
   "id": "fbeade42",
   "metadata": {},
   "source": [
    "# Não confie na ordem dos dicionários, use as chaves\n",
    "\n",
    "### Python Versões Antigas x Versões Novas\n",
    "\n",
    "- Dicionários eram \"sem ordem\". Atualmente tem ordem, mas o certo é usar as chaves\n",
    "- 2 formas de pegar um valor:\n",
    "    - dicionario[chave]\n",
    "    - .get(chave)"
   ]
  },
  {
   "cell_type": "code",
   "execution_count": 37,
   "id": "122cf73d",
   "metadata": {},
   "outputs": [
    {
     "name": "stdout",
     "output_type": "stream",
     "text": [
      "o alquimista\n",
      "O produto mais vendido foi: prancha surf\n",
      "2450\n",
      "Vendemos 1000 ipads\n",
      "Vendemos 1000 ipads\n"
     ]
    }
   ],
   "source": [
    "print(mais_vendidos['livros'])\n",
    "print('O produto mais vendido foi: {}'.format(mais_vendidos['lazer']))\n",
    "\n",
    "print(vendas_tecnologia.get('notebook asus'))\n",
    "print('Vendemos {} ipads'.format(vendas_tecnologia.get('ipad')))\n",
    "print('Vendemos {} ipads'.format(vendas_tecnologia['ipad']))"
   ]
  },
  {
   "cell_type": "markdown",
   "id": "5847426b",
   "metadata": {},
   "source": [
    "### Verificar se item está no dicionário:\n",
    "\n",
    "- if\n",
    "- .get(chave) = None\n",
    "\n",
    "Se tentarmos procurar as vendas de \"copo\" na lista de vendas tecnologia, o que acontece?"
   ]
  },
  {
   "cell_type": "code",
   "execution_count": 38,
   "id": "094fb7e1",
   "metadata": {},
   "outputs": [
    {
     "name": "stdout",
     "output_type": "stream",
     "text": [
      "Copo não está dentro da lista de dicionário\n"
     ]
    }
   ],
   "source": [
    "if 'copo' in vendas_tecnologia:\n",
    "    print(vendas_tecnologia['copo'])\n",
    "else:\n",
    "    print('Copo não está dentro da lista de dicionário')"
   ]
  },
  {
   "cell_type": "code",
   "execution_count": 39,
   "id": "bdd04099",
   "metadata": {},
   "outputs": [
    {
     "name": "stdout",
     "output_type": "stream",
     "text": [
      "Copo nao está dentro da lista de dicionário\n"
     ]
    }
   ],
   "source": [
    "if vendas_tecnologia.get('copo') == None:\n",
    "    print('Copo nao está dentro da lista de dicionário')\n",
    "else:\n",
    "    print(vendas_tecnologia.get('copo'))"
   ]
  },
  {
   "cell_type": "markdown",
   "id": "92c76723",
   "metadata": {},
   "source": [
    "# Métodos Específicos de Dicionário"
   ]
  },
  {
   "cell_type": "markdown",
   "id": "d757a8c3",
   "metadata": {},
   "source": [
    "- clear() -> Deleta todos os elementos do Dicionário (semelhante ao que aprendemos em listas)"
   ]
  },
  {
   "cell_type": "code",
   "execution_count": 40,
   "id": "ece2d5ae",
   "metadata": {},
   "outputs": [
    {
     "name": "stdout",
     "output_type": "stream",
     "text": [
      "{}\n"
     ]
    }
   ],
   "source": [
    "vendas_mes = {'jan': 150, 'fev': 100, 'mar': 190}\n",
    "vendas_mes.clear()\n",
    "print(vendas_mes)"
   ]
  },
  {
   "cell_type": "markdown",
   "id": "56475f69",
   "metadata": {},
   "source": [
    "- copy() -> Cria uma cópia do dicionário (semelhante ao que aprendemos em listas)"
   ]
  },
  {
   "cell_type": "code",
   "execution_count": 41,
   "id": "a82f0aac",
   "metadata": {},
   "outputs": [
    {
     "name": "stdout",
     "output_type": "stream",
     "text": [
      "{'jan': 150, 'fev': 100, 'mar': 190}\n"
     ]
    }
   ],
   "source": [
    "vendas_mes = {'jan': 150, 'fev': 100, 'mar': 190}\n",
    "vendas2_mes = vendas_mes.copy()\n",
    "print(vendas2_mes)"
   ]
  },
  {
   "cell_type": "markdown",
   "id": "feb1050a",
   "metadata": {},
   "source": [
    "- fromkeys(chaves, valor_padrao) -> Cria um dicionário com as chaves e o mesmo valor padrão para todas as chaves"
   ]
  },
  {
   "cell_type": "code",
   "execution_count": 42,
   "id": "7f512c8b",
   "metadata": {},
   "outputs": [
    {
     "name": "stdout",
     "output_type": "stream",
     "text": [
      "{'jan': 100, 'fev': 100, 'mar': 100}\n"
     ]
    }
   ],
   "source": [
    "chaves = ('jan', 'fev', 'mar')\n",
    "vendas = 100\n",
    "vendas_mes = dict.fromkeys(chaves, vendas)\n",
    "print(vendas_mes)"
   ]
  },
  {
   "cell_type": "markdown",
   "id": "09bec639",
   "metadata": {},
   "source": [
    "- get(chave) -> \tRetorna o valor especificado pela chave (Semelhante a fazer dictionario[chave]"
   ]
  },
  {
   "cell_type": "code",
   "execution_count": 43,
   "id": "a5ab52cd",
   "metadata": {},
   "outputs": [
    {
     "name": "stdout",
     "output_type": "stream",
     "text": [
      "190\n"
     ]
    }
   ],
   "source": [
    "vendas_mes = {'jan': 150, 'fev': 100, 'mar': 190}\n",
    "print(vendas_mes.get('mar'))"
   ]
  },
  {
   "cell_type": "markdown",
   "id": "9a30abf0",
   "metadata": {},
   "source": [
    "- items() -> Retorna uma lista em que cada item é uma tupla com (chave, valor)"
   ]
  },
  {
   "cell_type": "code",
   "execution_count": 44,
   "id": "09284f32",
   "metadata": {},
   "outputs": [
    {
     "name": "stdout",
     "output_type": "stream",
     "text": [
      "[('jan', 150), ('fev', 100), ('mar', 190)]\n"
     ]
    }
   ],
   "source": [
    "vendas_mes = {'jan': 150, 'fev': 100, 'mar': 190}\n",
    "print(list(vendas_mes.items()))"
   ]
  },
  {
   "cell_type": "markdown",
   "id": "b111f866",
   "metadata": {},
   "source": [
    "- keys() -> Retorna uma lista com todas as chaves do dicionário\n",
    "\n",
    "*   Item de lista\n",
    "*   Item de lista"
   ]
  },
  {
   "cell_type": "code",
   "execution_count": 46,
   "id": "a24408f4",
   "metadata": {},
   "outputs": [
    {
     "name": "stdout",
     "output_type": "stream",
     "text": [
      "['jan', 'fev', 'mar']\n"
     ]
    }
   ],
   "source": [
    "vendas_mes = {'jan': 150, 'fev': 100, 'mar': 190}\n",
    "print(list(vendas_mes.keys()))"
   ]
  },
  {
   "cell_type": "markdown",
   "id": "c87562a5",
   "metadata": {},
   "source": [
    "- pop(chave) -> Retira o item do dicionário e retorna o valor dele para ser usado"
   ]
  },
  {
   "cell_type": "code",
   "execution_count": 47,
   "id": "820a15d8",
   "metadata": {},
   "outputs": [
    {
     "name": "stdout",
     "output_type": "stream",
     "text": [
      "{'jan': 150, 'mar': 190}\n",
      "100\n"
     ]
    }
   ],
   "source": [
    "vendas_mes = {'jan': 150, 'fev': 100, 'mar': 190}\n",
    "vendas_fev = vendas_mes.pop('fev') #retira o fevereiro do dicionário ao mesmo tempo que armazena o valor dele na variável\n",
    "print(vendas_mes)\n",
    "print(vendas_fev)"
   ]
  },
  {
   "cell_type": "markdown",
   "id": "360e9b8d",
   "metadata": {},
   "source": [
    "- popitem() -> Retira o último item adicionado ao dicionário"
   ]
  },
  {
   "cell_type": "code",
   "execution_count": 48,
   "id": "e1748d59",
   "metadata": {},
   "outputs": [
    {
     "name": "stdout",
     "output_type": "stream",
     "text": [
      "{'jan': 150, 'fev': 100}\n",
      "('mar', 190)\n"
     ]
    }
   ],
   "source": [
    "vendas_mes = {'jan': 150, 'fev': 100, 'mar': 190}\n",
    "#retira o último item adicionado no dicionário ao mesmo tempo que armazena o item(chave, valor) dele na variável\n",
    "vendas_ult = vendas_mes.popitem() \n",
    "print(vendas_mes)\n",
    "print(vendas_ult)"
   ]
  },
  {
   "cell_type": "markdown",
   "id": "9b60c49f",
   "metadata": {},
   "source": [
    "- setdefault(chave, valor) -> Retorna o valor da chave passada, mas caso a chave não exista, cria no dicionário o item com a chave e valor passados."
   ]
  },
  {
   "cell_type": "code",
   "execution_count": 49,
   "id": "9e1c2d07",
   "metadata": {},
   "outputs": [
    {
     "name": "stdout",
     "output_type": "stream",
     "text": [
      "100\n",
      "600\n",
      "{'jan': 150, 'fev': 100, 'mar': 190, 'abr': 600}\n"
     ]
    }
   ],
   "source": [
    "vendas_mes = {'jan': 150, 'fev': 100, 'mar': 190}\n",
    "vendas_fev = vendas_mes.setdefault('fev', 500)\n",
    "print(vendas_fev)\n",
    "#repare que como fevereiro existe na lista, ele procura pelo valor de fevereiro e ignora o 500 passado\n",
    "#agora quando não existe na lista:\n",
    "vendas_abr = vendas_mes.setdefault('abr', 600)\n",
    "#repare que agora além de vendas_abr retornar o 600 como valor, ele adicionou um item no dicionario\n",
    "print(vendas_abr)\n",
    "print(vendas_mes)"
   ]
  },
  {
   "cell_type": "markdown",
   "id": "2b801f60",
   "metadata": {},
   "source": [
    "- update(dicionario) -> Adiciona o dicionário passado como parâmetro ao dicionário original"
   ]
  },
  {
   "cell_type": "code",
   "execution_count": 50,
   "id": "de3d2884",
   "metadata": {},
   "outputs": [
    {
     "name": "stdout",
     "output_type": "stream",
     "text": [
      "{'jan': 150, 'fev': 100, 'mar': 190, 'abr': 400, 'mai': 600, 'jun': 500}\n"
     ]
    }
   ],
   "source": [
    "vendas_mes = {'jan': 150, 'fev': 100, 'mar': 190}\n",
    "vendas_2tri = {'abr': 400, 'mai': 600, 'jun': 500}\n",
    "vendas_mes.update(vendas_2tri)\n",
    "print(vendas_mes)"
   ]
  },
  {
   "cell_type": "markdown",
   "id": "2959bdb0",
   "metadata": {},
   "source": [
    "- values() -> Retorna uma lista com todos os valores do dicionários"
   ]
  },
  {
   "cell_type": "code",
   "execution_count": 51,
   "id": "2d6e219a",
   "metadata": {},
   "outputs": [
    {
     "name": "stdout",
     "output_type": "stream",
     "text": [
      "[150, 100, 190]\n"
     ]
    }
   ],
   "source": [
    "vendas_mes = {'jan': 150, 'fev': 100, 'mar': 190}\n",
    "print(list(vendas_mes.values()))"
   ]
  },
  {
   "cell_type": "markdown",
   "id": "a4cc93e1",
   "metadata": {},
   "source": [
    "# ---------------------------------------------------------------------------------------------------------------"
   ]
  },
  {
   "cell_type": "markdown",
   "id": "83d4aeeb",
   "metadata": {},
   "source": [
    "# Range\n",
    "\n",
    "### Estrutura:\n",
    "\n",
    "- range(tamanho)\n",
    "\n",
    "ou \n",
    "\n",
    "- range(inicio, fim)\n",
    "\n",
    "ou\n",
    "\n",
    "- range(inicio, fim, passo)"
   ]
  },
  {
   "cell_type": "code",
   "execution_count": 53,
   "id": "258e44fb",
   "metadata": {},
   "outputs": [
    {
     "name": "stdout",
     "output_type": "stream",
     "text": [
      "arroz: 50 unidades em estoque\n",
      "feijao: 100 unidades em estoque\n",
      "macarrao: 20 unidades em estoque\n",
      "atum: 5 unidades em estoque\n",
      "azeite: 80 unidades em estoque\n"
     ]
    }
   ],
   "source": [
    "#uso mais comum no for:\n",
    "produtos = ['arroz', 'feijao', 'macarrao', 'atum', 'azeite']\n",
    "estoque = [50, 100, 20, 5, 80]\n",
    "\n",
    "for i in range(5):\n",
    "    print('{}: {} unidades em estoque'.format(produtos[i],estoque[i]))"
   ]
  },
  {
   "cell_type": "code",
   "execution_count": 56,
   "id": "909cd2c1",
   "metadata": {},
   "outputs": [
    {
     "name": "stdout",
     "output_type": "stream",
     "text": [
      "range(1, 10)\n",
      "5\n",
      "6\n",
      "7\n",
      "8\n",
      "9\n"
     ]
    }
   ],
   "source": [
    "#range com inicio e fim\n",
    "print(range(1, 10))\n",
    "\n",
    "#vamos olhar no for para entender\n",
    "for i in range(5,10):\n",
    "    print(i)"
   ]
  },
  {
   "cell_type": "markdown",
   "id": "dccd9611",
   "metadata": {},
   "source": [
    "- Exemplo: Modelo Jack Welch da G&E\n",
    "\n",
    "    1. Classe A: 10% melhor\n",
    "    2. Classe B: 80% mantém/busca melhorar\n",
    "    3. Classe C: 10% pior\n",
    "    \n",
    "Quem são os funcionários classe B?"
   ]
  },
  {
   "cell_type": "code",
   "execution_count": 62,
   "id": "ce00fac0",
   "metadata": {},
   "outputs": [
    {
     "name": "stdout",
     "output_type": "stream",
     "text": [
      "Funcionários classe B\n",
      "Antônio 1500\n",
      "João 1200\n",
      "Francisco 1111\n",
      "Ana 1100\n",
      "Luiz 999\n",
      "Paulo 900\n",
      "Carlos 880\n",
      "Manoel 870\n",
      "Pedro 800\n",
      "Francisca 800\n",
      "Marcos 450\n",
      "Raimundo 400\n",
      "Sebastião 300\n",
      "Antônia 300\n",
      "Marcelo 120\n",
      "Jorge 90\n"
     ]
    }
   ],
   "source": [
    "funcionarios = ['Maria', 'José', 'Antônio', 'João', 'Francisco', 'Ana', 'Luiz', 'Paulo', 'Carlos', 'Manoel', 'Pedro', 'Francisca', 'Marcos', 'Raimundo', 'Sebastião', 'Antônia', 'Marcelo', 'Jorge', 'Márcia', 'Geraldo']\n",
    "vendas = [2750, 1900, 1500, 1200, 1111, 1100, 999, 900, 880, 870, 800, 800, 450, 400, 300, 300, 120, 90, 80, 70]\n",
    "\n",
    "print('Funcionários classe B')\n",
    "for i in range(2,18):\n",
    "    print(funcionarios[i],vendas[i])"
   ]
  },
  {
   "cell_type": "code",
   "execution_count": 64,
   "id": "86f992f8",
   "metadata": {},
   "outputs": [
    {
     "name": "stdout",
     "output_type": "stream",
     "text": [
      "range(0, 100, 10)\n",
      "0\n",
      "10\n",
      "20\n",
      "30\n",
      "40\n",
      "50\n",
      "60\n",
      "70\n",
      "80\n",
      "90\n"
     ]
    }
   ],
   "source": [
    "#range com passo\n",
    "print(range(0, 100, 10))\n",
    "\n",
    "for i in range(0, 100, 10):\n",
    "    print(i)"
   ]
  },
  {
   "cell_type": "markdown",
   "id": "69bbc57e",
   "metadata": {},
   "source": [
    "# Function Python\n",
    "\n",
    "### O que é?\n",
    "\n",
    "As functions são blocos de código que servem 1 único propósito, fazem uma ação específica.\n",
    "\n",
    "### Estrutura Básica"
   ]
  },
  {
   "cell_type": "code",
   "execution_count": null,
   "id": "e07a54b1",
   "metadata": {},
   "outputs": [],
   "source": [
    "def nome_funcao():\n",
    "    faça alguma coisa\n",
    "    faça outra coisa\n",
    "    return valor_final"
   ]
  },
  {
   "cell_type": "markdown",
   "id": "48dec668",
   "metadata": {},
   "source": [
    "- Exemplo: vamos criar uma função de cadastro de um Produto. Essa função deve garantir que o produto cadastrado está em letra minúscula."
   ]
  },
  {
   "cell_type": "code",
   "execution_count": 2,
   "id": "21515843",
   "metadata": {},
   "outputs": [],
   "source": [
    "def cadastrar_produto():\n",
    "    produto = input('Digite o nome do produto ')\n",
    "    produto = produto.casefold()\n",
    "    print('Produto {} cadastrad com sucesso'.format(produto))"
   ]
  },
  {
   "cell_type": "code",
   "execution_count": 74,
   "id": "ea0a3555",
   "metadata": {},
   "outputs": [
    {
     "name": "stdout",
     "output_type": "stream",
     "text": [
      "Digite o nome do produto dasdjasa daHUHu\n",
      "Produto dasdjasa dahuhu cadastrad com sucesso\n",
      "Digite o nome do produto UHUHUHhuhuh\n",
      "Produto uhuhuhhuhuh cadastrad com sucesso\n",
      "Digite o nome do produto huhsudaUHUHUA\n",
      "Produto huhsudauhuhua cadastrad com sucesso\n"
     ]
    }
   ],
   "source": [
    "for i in range(3):\n",
    "    cadastrar_produto()"
   ]
  },
  {
   "cell_type": "code",
   "execution_count": 1,
   "id": "60a18df7",
   "metadata": {},
   "outputs": [],
   "source": [
    "def cadastrar_produto():\n",
    "    produto = input('Digite o nome do produto ')\n",
    "    produto = produto.casefold()\n",
    "    produto = produto.strip()\n",
    "    return produto\n"
   ]
  },
  {
   "cell_type": "code",
   "execution_count": 2,
   "id": "7dfbb8eb",
   "metadata": {},
   "outputs": [
    {
     "name": "stdout",
     "output_type": "stream",
     "text": [
      "Digite o nome do produto FeiJAO\n",
      "feijao\n"
     ]
    }
   ],
   "source": [
    "variavel_produto = cadastrar_produto()\n",
    "print(variavel_produto)"
   ]
  },
  {
   "cell_type": "markdown",
   "id": "e29dc1c4",
   "metadata": {},
   "source": [
    "# Argumentos/Parâmetros da Função\n",
    "\n",
    "### Estrutura:"
   ]
  },
  {
   "cell_type": "markdown",
   "id": "86038fdd",
   "metadata": {},
   "source": [
    "def minha_funcao(parametro1, parametro2, parametro3):\n",
    "    return parametro1 + parametro2 + parametro3"
   ]
  },
  {
   "cell_type": "code",
   "execution_count": 4,
   "id": "bab6642c",
   "metadata": {},
   "outputs": [
    {
     "name": "stdout",
     "output_type": "stream",
     "text": [
      "Vendas Produto 50\n"
     ]
    }
   ],
   "source": [
    "#Exemplo\n",
    "\n",
    "valor = 50\n",
    "print('Vendas', 'Produto', valor)"
   ]
  },
  {
   "cell_type": "code",
   "execution_count": 31,
   "id": "8685c65d",
   "metadata": {},
   "outputs": [
    {
     "name": "stdout",
     "output_type": "stream",
     "text": [
      "Processando\n",
      "60\n"
     ]
    }
   ],
   "source": [
    "def minha_soma(num1, num2, num3):\n",
    "    print('Processando')\n",
    "    return num1 + num2 + num3\n",
    "\n",
    "\n",
    "soma = minha_soma(10, 20, 30)\n",
    "\n",
    "print(soma)"
   ]
  },
  {
   "cell_type": "markdown",
   "id": "f46d9442",
   "metadata": {},
   "source": [
    "- Vamos criar uma function com parâmetro\n",
    "\n",
    "Digamos que estamos criando um programa para categorizar os produtos de uma revendedora de bebidas.\n",
    "\n",
    "Cada produto tem um código. O tipo de produto é dado pelas 3 primeiras letras do código.\n",
    "\n",
    "Ex:<br>\n",
    "Vinho -> BEB12302<br>\n",
    "Cerveja -> BEB12043<br>\n",
    "Vodka -> BEB34501<br>\n",
    "\n",
    "Guaraná -> BSA11104<br>\n",
    "Coca -> BSA54301<br>\n",
    "Sprite -> BSA34012<br>\n",
    "Água -> BSA09871<br>\n",
    "\n",
    "Repare que bebidas não alcóolicas começam com BSA e bebidas alcoolicas começam com BEB.\n",
    "\n",
    "Crie um programa que analise uma lista de produtos e envie instruções para a equipe de estoque dizendo quais produtos devem ser enviados para a área de bebidas alcóolicas."
   ]
  },
  {
   "cell_type": "code",
   "execution_count": 12,
   "id": "11807c2f",
   "metadata": {},
   "outputs": [
    {
     "name": "stdout",
     "output_type": "stream",
     "text": [
      "Enviar BEB46275 para setor de bebidas alcóoicas\n",
      "Enviar BEB21365 para setor de bebidas alcóoicas\n",
      "Enviar BEB31623 para setor de bebidas alcóoicas\n",
      "Enviar BEB73344 para setor de bebidas alcóoicas\n",
      "Enviar BEB80694 para setor de bebidas alcóoicas\n",
      "Enviar BEB19495 para setor de bebidas alcóoicas\n",
      "Enviar BEB97471 para setor de bebidas alcóoicas\n",
      "Enviar BEB62362 para setor de bebidas alcóoicas\n",
      "Enviar BEB85146 para setor de bebidas alcóoicas\n",
      "Enviar BEB48898 para setor de bebidas alcóoicas\n",
      "Enviar BEB79496 para setor de bebidas alcóoicas\n",
      "Enviar BEB15385 para setor de bebidas alcóoicas\n",
      "Enviar BEB24213 para setor de bebidas alcóoicas\n",
      "Enviar BEB56262 para setor de bebidas alcóoicas\n",
      "Enviar BEB75073 para setor de bebidas alcóoicas\n"
     ]
    }
   ],
   "source": [
    "def alcoolico(bebida):\n",
    "    bebida = bebida.upper()\n",
    "    if 'BEB' in bebida:\n",
    "        return True\n",
    "    else:\n",
    "        return False\n",
    "    \n",
    "    \n",
    "produtos = ['beb46275','TFA23962','TFA64715','TFA69555','TFA56743','BSA45510','TFA44968','CAR75448','CAR23596','CAR13490','BEB21365','BEB31623','BSA62419','BEB73344','TFA20079','BEB80694','BSA11769','BEB19495','TFA14792','TFA78043','BSA33484','BEB97471','BEB62362','TFA27311','TFA17715','BEB85146','BEB48898','BEB79496','CAR38417','TFA19947','TFA58799','CAR94811','BSA59251','BEB15385','BEB24213','BEB56262','BSA96915','CAR53454','BEB75073']\n",
    "\n",
    "#percorrer toda a minha lista de produtos\n",
    "#pra cada produto, verificar se ele é bebida alcólica\n",
    "#se for bebida alcólica, exibir mensagem de envio\n",
    "\n",
    "for produto in produtos:\n",
    "    if alcoolico(produto):\n",
    "        print('Enviar {} para setor de bebidas alcóoicas'.format(produto.upper()))"
   ]
  },
  {
   "cell_type": "markdown",
   "id": "6cd87ca0",
   "metadata": {},
   "source": [
    "# ---------------------------------------------------------------------------------------------------------------"
   ]
  },
  {
   "cell_type": "markdown",
   "id": "2847c160",
   "metadata": {},
   "source": [
    "# O que são Módulos e qual a importância deles?\n",
    "\n",
    "### Importância\n",
    "\n",
    "- Já tem muita coisa pronta, então você não precisa criar do zero.\n",
    "- Se você souber usar Módulos e como usar um módulo novo, você vai conseguir fazer praticamente tudo no Python\n",
    "\n",
    "### Estrutura Básica"
   ]
  },
  {
   "cell_type": "markdown",
   "id": "ccb83c6c",
   "metadata": {},
   "source": [
    "import módulo\n",
    "\n",
    "ou\n",
    "\n",
    "import módulo as nome"
   ]
  },
  {
   "cell_type": "markdown",
   "id": "9be0abfb",
   "metadata": {},
   "source": [
    "- Exemplo: Como pode fazer o nosso código abrir um site específico na internet?"
   ]
  },
  {
   "cell_type": "code",
   "execution_count": 15,
   "id": "2537f509",
   "metadata": {},
   "outputs": [
    {
     "data": {
      "text/plain": [
       "True"
      ]
     },
     "execution_count": 15,
     "metadata": {},
     "output_type": "execute_result"
    }
   ],
   "source": [
    "import webbrowser as wb\n",
    "\n",
    "wb.open('https://hashtagtreinamentos.com')"
   ]
  },
  {
   "cell_type": "markdown",
   "id": "0700d111",
   "metadata": {},
   "source": [
    "### Variações\n",
    "\n",
    "#importar o módulo sem precisar usar o nome dele <br>\n",
    "from modulo import *\n",
    "\n",
    "#importar apenas algumas partes do módulo <br>\n",
    "from modulo import funcao1, funcao2, etc."
   ]
  },
  {
   "cell_type": "markdown",
   "id": "f1132100",
   "metadata": {},
   "source": [
    "# ---------------------------------------------------------------------------------------------------------------"
   ]
  },
  {
   "cell_type": "markdown",
   "id": "4a2d2f49",
   "metadata": {},
   "source": [
    "# Alterações \"Incrementais\" de Variáveis\n",
    "\n",
    "Estrutura:\n",
    "\n",
    "- variavel = variavel + outro_valor\n",
    "\n",
    "ou então\n",
    "\n",
    "- variavel += outro_valor\n",
    "\n",
    "Exemplo: vamos adicionar às variáveis criadas o Produto IPad, 500 vendas"
   ]
  },
  {
   "cell_type": "code",
   "execution_count": 25,
   "id": "ee3e1df9",
   "metadata": {},
   "outputs": [
    {
     "name": "stdout",
     "output_type": "stream",
     "text": [
      "['mac', 'iphone', 'Ipad', 'Iglass']\n",
      "[100, 200, 500, 850]\n"
     ]
    }
   ],
   "source": [
    "lista = ['mac', 'iphone']\n",
    "vendas = [100, 200]\n",
    "#adicionando IPad na lista\n",
    "lista = lista + ['Ipad']\n",
    "lista += ['Iglass']\n",
    "\n",
    "vendas = vendas + [500]\n",
    "vendas += [850]\n",
    "\n",
    "print(lista)\n",
    "print(vendas)"
   ]
  },
  {
   "cell_type": "code",
   "execution_count": 30,
   "id": "38d99f04",
   "metadata": {},
   "outputs": [
    {
     "name": "stdout",
     "output_type": "stream",
     "text": [
      "800\n"
     ]
    }
   ],
   "source": [
    "soma_vendas = 300\n",
    "#adicionando na soma a quantidade de IPad\n",
    "\n",
    "#soma_vendas = soma_vendas + 500\n",
    "\n",
    "soma_vendas += 500\n",
    "\n",
    "\n",
    "print(soma_vendas)"
   ]
  },
  {
   "cell_type": "code",
   "execution_count": 26,
   "id": "2c8ba2fc",
   "metadata": {},
   "outputs": [
    {
     "name": "stdout",
     "output_type": "stream",
     "text": [
      "Esse mês vendemos um total de 800 produtos, sendo:\n",
      "100 unidades de mac\n",
      "200 unidades de iphone\n",
      "500 unidades de Ipad\n",
      "850 unidades de Iglass\n"
     ]
    }
   ],
   "source": [
    "email = 'Esse mês vendemos um total de {} produtos, sendo:\\n{} unidades de {}\\n{} unidades de {}'.format(soma_vendas, vendas[0], lista[0], vendas[1], lista[1])\n",
    "#adicionando no fim do texto o Ipad\n",
    "\n",
    "email = email + \"\\n{} unidades de {}\".format(vendas[2], lista[2])\n",
    "\n",
    "email += \"\\n{} unidades de {}\".format(vendas[3], lista[3])\n",
    "\n",
    "print(email)"
   ]
  }
 ],
 "metadata": {
  "kernelspec": {
   "display_name": "Python 3 (ipykernel)",
   "language": "python",
   "name": "python3"
  },
  "language_info": {
   "codemirror_mode": {
    "name": "ipython",
    "version": 3
   },
   "file_extension": ".py",
   "mimetype": "text/x-python",
   "name": "python",
   "nbconvert_exporter": "python",
   "pygments_lexer": "ipython3",
   "version": "3.11.5"
  }
 },
 "nbformat": 4,
 "nbformat_minor": 5
}
