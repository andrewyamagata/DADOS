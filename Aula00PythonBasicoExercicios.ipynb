{
 "cells": [
  {
   "cell_type": "markdown",
   "metadata": {},
   "source": [
    "## Exercício 1: Acessando Dados de Vendas\n",
    "\n",
    "Dada uma tupla que armazena as vendas mensais de um produto `vendas = (120, 130, 150, 140, 135)`, calcule a venda total do segundo e terceiro mês e imprima o resultado.\n"
   ]
  },
  {
   "cell_type": "code",
   "execution_count": 2,
   "metadata": {},
   "outputs": [],
   "source": [
    "vendas = (120, 130, 150, 140, 135)"
   ]
  },
  {
   "cell_type": "code",
   "execution_count": 5,
   "metadata": {},
   "outputs": [
    {
     "name": "stdout",
     "output_type": "stream",
     "text": [
      "As vendas no segundo mês foram de 130 e no terceiro mês de 150, totalizando 280\n"
     ]
    }
   ],
   "source": [
    "print(\"As vendas no segundo mês foram de {} e no terceiro mês de {}, totalizando {}\".format(vendas[1],vendas[2], vendas[1]+vendas[2]))"
   ]
  },
  {
   "cell_type": "markdown",
   "metadata": {},
   "source": [
    "## Exercício 2: Fatiamento de Lista de Funcionários\n",
    "\n",
    "**Descrição**: Dada uma lista de nomes de funcionários `funcionarios = [\"Ana\", \"Marcos\", \"Felipe\", \"José\", \"Mariana\"]`, obtenha uma sublista com os nomes do segundo ao quarto funcionário e imprima essa sublista.\n",
    "\n"
   ]
  },
  {
   "cell_type": "code",
   "execution_count": 7,
   "metadata": {},
   "outputs": [],
   "source": [
    "funcionarios = [\"Ana\", \"Marcos\", \"Felipe\", \"José\", \"Mariana\"]"
   ]
  },
  {
   "cell_type": "code",
   "execution_count": 15,
   "metadata": {},
   "outputs": [
    {
     "name": "stdout",
     "output_type": "stream",
     "text": [
      "[['Marcos', 'Felipe', 'José']]\n"
     ]
    }
   ],
   "source": [
    "funcionarios2 = [funcionarios[1:4]]\n",
    "\n",
    "print(funcionarios2)"
   ]
  },
  {
   "cell_type": "markdown",
   "metadata": {},
   "source": [
    "## Exercício 3: Convertendo Lista em Dicionário\n",
    "\n",
    "Dada uma lista de pares representando funcionários e seus respectivos departamentos `pares = [(\"Ana\", \"Vendas\"), (\"Luís\", \"TI\"), (\"Clara\", \"RH\")]`, converta esta lista em um dicionário onde as chaves são os nomes dos funcionários e os valores são seus departamentos."
   ]
  },
  {
   "cell_type": "code",
   "execution_count": 10,
   "metadata": {},
   "outputs": [],
   "source": [
    "pares = [(\"Ana\", \"Vendas\"), (\"Luís\", \"TI\"), (\"Clara\", \"RH\")]"
   ]
  },
  {
   "cell_type": "code",
   "execution_count": 17,
   "metadata": {},
   "outputs": [
    {
     "data": {
      "text/plain": [
       "dict_keys(['Ana', 'Luís', 'Clara'])"
      ]
     },
     "execution_count": 17,
     "metadata": {},
     "output_type": "execute_result"
    }
   ],
   "source": [
    "dict_pares = dict(pares)\n",
    "dict_pares.keys()"
   ]
  },
  {
   "cell_type": "markdown",
   "metadata": {},
   "source": [
    "## Exercício 4: Atualizando Lista de Contatos\n",
    "\n",
    "Uma empresa mantém uma lista de emails de contatos em uma lista Python. Adicione um novo contato \"novo.contato@empresa.com\" à lista `emails = [\"contato1@empresa.com\", \"contato2@empresa.com\"]` e remova \"contato1@empresa.com\".\n",
    "\n",
    "Dica: pesquise sobre os [métodos de listas](https://docs.python.org/3/tutorial/datastructures.html#more-on-lists) `append` e `remove`.\n",
    "\n"
   ]
  },
  {
   "cell_type": "code",
   "execution_count": 18,
   "metadata": {},
   "outputs": [],
   "source": [
    "emails = [\"contato1@empresa.com\", \"contato2@empresa.com\"]"
   ]
  },
  {
   "cell_type": "code",
   "execution_count": 19,
   "metadata": {},
   "outputs": [
    {
     "data": {
      "text/plain": [
       "['contato2@empresa.com', 'novo.contato@empresa.com']"
      ]
     },
     "execution_count": 19,
     "metadata": {},
     "output_type": "execute_result"
    }
   ],
   "source": [
    "emails.append('novo.contato@empresa.com')\n",
    "emails.remove(\"contato1@empresa.com\")\n",
    "\n",
    "emails"
   ]
  },
  {
   "cell_type": "markdown",
   "metadata": {},
   "source": [
    "## Exercício 5: Contagem de Itens Vendidos\n",
    "\n",
    "Após uma promoção, uma empresa registrou os itens vendidos em uma lista `itens_vendidos = [\"caneta\", \"lápis\", \"caneta\", \"borracha\", \"lápis\", \"caneta\"]`. Conte quantas vezes cada item foi vendido e armazene os resultados em um dicionário.\n",
    "\n",
    "Dica: pesquise sobre o método `count` de listas Python"
   ]
  },
  {
   "cell_type": "code",
   "execution_count": 20,
   "metadata": {},
   "outputs": [],
   "source": [
    "itens_vendidos = [\"caneta\", \"lápis\", \"caneta\", \"borracha\", \"lápis\", \"caneta\"]"
   ]
  },
  {
   "cell_type": "code",
   "execution_count": 21,
   "metadata": {},
   "outputs": [
    {
     "data": {
      "text/plain": [
       "3"
      ]
     },
     "execution_count": 21,
     "metadata": {},
     "output_type": "execute_result"
    }
   ],
   "source": [
    "itens_vendidos.count(\"caneta\")"
   ]
  },
  {
   "cell_type": "code",
   "execution_count": 23,
   "metadata": {},
   "outputs": [
    {
     "data": {
      "text/plain": [
       "{'caneta': 3, 'lápis': 2, 'borracha': 1}"
      ]
     },
     "execution_count": 23,
     "metadata": {},
     "output_type": "execute_result"
    }
   ],
   "source": [
    "contagem_itens = {\n",
    "    \"caneta\": itens_vendidos.count (\"caneta\"),\n",
    "    \"lápis\": itens_vendidos.count (\"lápis\"),\n",
    "    \"borracha\": itens_vendidos.count (\"borracha\")\n",
    "    }\n",
    "\n",
    "contagem_itens"
   ]
  }
 ],
 "metadata": {
  "kernelspec": {
   "display_name": "base",
   "language": "python",
   "name": "python3"
  },
  "language_info": {
   "codemirror_mode": {
    "name": "ipython",
    "version": 3
   },
   "file_extension": ".py",
   "mimetype": "text/x-python",
   "name": "python",
   "nbconvert_exporter": "python",
   "pygments_lexer": "ipython3",
   "version": "3.11.5"
  }
 },
 "nbformat": 4,
 "nbformat_minor": 2
}
